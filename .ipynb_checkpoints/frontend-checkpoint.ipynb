{
 "cells": [
  {
   "cell_type": "code",
   "execution_count": 5,
   "metadata": {},
   "outputs": [
    {
     "data": {
      "text/plain": [
       "(5, 0)"
      ]
     },
     "execution_count": 5,
     "metadata": {},
     "output_type": "execute_result"
    }
   ],
   "source": [
    "import random\n",
    "import pygame\n",
    "from pygame.locals import *\n",
    "import sys\n",
    "pygame.init()"
   ]
  },
  {
   "cell_type": "code",
   "execution_count": 10,
   "metadata": {},
   "outputs": [],
   "source": [
    "#https://colorcodes.io/\n",
    "white = (255,255,255)\n",
    "yellow = (255,239,0)\n",
    "green = (0,135,62)\n",
    "black = (0,0,0)\n",
    "gray = (172,167,158)\n",
    "red = (205,0,26)"
   ]
  },
  {
   "cell_type": "code",
   "execution_count": 7,
   "metadata": {},
   "outputs": [],
   "source": [
    "font = pygame.font.SysFont(\"Helvetica neue\", 40)\n",
    "# big_font = pygame.font.SysFont(\"Helvetica neue\", 40)"
   ]
  },
  {
   "cell_type": "code",
   "execution_count": 11,
   "metadata": {},
   "outputs": [],
   "source": [
    "win_statement = font.render(\"Congrats, You Win!\", True, green)\n",
    "lose_statement = font.render(\"You Lost :(\", True, red)\n",
    "replay_statement = font.render(\"Play Again?\", True, green)"
   ]
  },
  {
   "cell_type": "code",
   "execution_count": null,
   "metadata": {},
   "outputs": [],
   "source": [
    "def checkGuess(turns, answer, guess, window):\n",
    "    word_space = [\"\",\"\",\"\",\"\",\"\",\"\"]\n",
    "    spacing = 0\n",
    "    word_color = [white, white, white, white, white]\n",
    "    word_length = 5\n",
    "    \n",
    "    for i, letter in enumerate(guess):\n",
    "        if letter == answer[i]:\n",
    "            word_color[i] = green\n",
    "        elif letter in answer:\n",
    "            word_color[i] = yellow\n",
    "        else:\n",
    "            word_color[i] = black\n",
    "            \n",
    "    list(guess)\n",
    "    \n",
    "    for i in range(word_length):\n",
    "        word_space[i] = font.render(guess[i], True, black) #rendering word onto screen\n",
    "        #for each turn/guess, will want to draw word lower down by 80, first one is 50 from top\n",
    "        #sqr is 50x50\n",
    "        sqr_graphic = pygame.Rect(60 + spacing, 50 + (turns*80), 50, 50)\n",
    "        pygame.draw.rect(window, word_color[i], sqr_graphic) #if the first letter is green, the square drawn will be green, etc.\n",
    "        #drawing letters in rectangles\n",
    "        letter_graphic = (70+spacing, 50 + turns*80)\n",
    "        window.blit(word_space[i], letter_graphic)\n",
    "        spacing += 80 #moves next letter/sqr to the right by 80\n",
    "    \n",
    "    #win condition\n",
    "    if word_color == [green, green, green, green, green]:\n",
    "        return True\n",
    "        "
   ]
  },
  {
   "cell_type": "code",
   "execution_count": null,
   "metadata": {},
   "outputs": [],
   "source": [
    "def main():\n",
    "    file = open(\"wordle_solutions.txt\",\"r\")\n",
    "    wordle_solutions = file.readlines()\n",
    "    actual_word = wordle_solutions[random.randint(0, len(wordle_solutions)-1)].upper()\n",
    "    \n",
    "    width = 500    \n",
    "    height = 600\n",
    "\n",
    "    FPS=30\n",
    "    clock = pygame.time.Clock()\n",
    "    \n",
    "    window = pygame.display.set_mode((width, height))\n",
    "    window.fill(black)\n",
    "    \n",
    "    guess = \"\"\n",
    "    \n",
    "    print(actual_word)\n",
    "    \n",
    "    word_length = 5\n",
    "    num_guesses = 6\n",
    "    for x in range(word_length):\n",
    "        for y in range(num_guesses):\n",
    "            sqr_graphic = pygame.Rect(60 + 80*x, 50 + (80*y), 50, 50)\n",
    "            pygame.draw.rect(window, white, sqr_graphic, 2) #mode 2: unfilled rectangles\n",
    "            \n",
    "    pygame.display.set_caption(\"WORDLE\")\n",
    "    \n",
    "    turns = 0\n",
    "    win = False\n",
    "    \n",
    "    while True:\n",
    "        for event in pygame.event.get():\n",
    "            if event.type == QUIT:\n",
    "                pygame.quit()\n",
    "                sys.exit()\n",
    "            \n",
    "            #user has typed in a letter/pressed key\n",
    "            if event.type == KEYDOWN:\n",
    "                guess += event.unicode.upper()\n",
    "                \n",
    "                #won game\n",
    "                if event.key == K_RETURN and win == True:\n",
    "                    main()\n",
    "                \n",
    "                #ran out of turns\n",
    "                if event.key == K_RETURN and turns > 5:\n",
    "                    main()\n",
    "                \n",
    "                #user is typing more than five letters\n",
    "                if len(guess) > 5:\n",
    "                    guess = guess[0:5]\n",
    "                \n",
    "                #user backspaced\n",
    "                if event.key == K_BACKSPACE:\n",
    "                    #removing last one\n",
    "                    guess = guess[:-1]\n",
    "                    \n",
    "                if event.key == K_RETURN and len(guess) > 4:\n",
    "                    win = checkGuess(turns, actual_word, guess, window)\n",
    "                    turns += 1\n",
    "                    \n",
    "                    #restart guess\n",
    "                    guess = \"\"\n",
    "                    #black out bottom of screen where guess was previously\n",
    "                    window.fill(black, (0, 500, 500, 200))\n",
    "                    \n",
    "        window.fill(black, (0, 500, 500, 200))\n",
    "        guess_graphic = font.render(guess, True, white)\n",
    "        window.blit(guess_graphic, (180, 530))\n",
    "        \n",
    "        #end game text\n",
    "#         print(\"turns: \" + str(turns))\n",
    "#         print(win)\n",
    "        if win == True:\n",
    "            #black out entire screen\n",
    "            window.fill(black)\n",
    "            window.blit(win_statement, (90, 200))\n",
    "            window.blit(replay_statement, (60, 300))\n",
    "        elif turns > 5 and win != True:\n",
    "#             print(\"you lost\")\n",
    "            window.fill(black)\n",
    "            window.blit(lose_statement, (90, 200))\n",
    "            window.blit(replay_statement, (60, 300))\n",
    "            \n",
    "        pygame.display.update()\n",
    "        clock.tick(FPS)\n",
    "                    "
   ]
  },
  {
   "cell_type": "code",
   "execution_count": null,
   "metadata": {},
   "outputs": [],
   "source": [
    "main()"
   ]
  },
  {
   "cell_type": "code",
   "execution_count": null,
   "metadata": {},
   "outputs": [],
   "source": [
    "#TODO: fix returning early + backspacing (only works when backspacing last letter)\n",
    "#TODO: center text for end statements"
   ]
  }
 ],
 "metadata": {
  "kernelspec": {
   "display_name": "wordle_env",
   "language": "python",
   "name": "wordle_env"
  },
  "language_info": {
   "codemirror_mode": {
    "name": "ipython",
    "version": 3
   },
   "file_extension": ".py",
   "mimetype": "text/x-python",
   "name": "python",
   "nbconvert_exporter": "python",
   "pygments_lexer": "ipython3",
   "version": "3.9.7"
  }
 },
 "nbformat": 4,
 "nbformat_minor": 4
}
