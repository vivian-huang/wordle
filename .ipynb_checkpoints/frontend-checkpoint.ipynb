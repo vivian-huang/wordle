{
 "cells": [
  {
   "cell_type": "code",
   "execution_count": 5,
   "metadata": {},
   "outputs": [
    {
     "data": {
      "text/plain": [
       "(5, 0)"
      ]
     },
     "execution_count": 5,
     "metadata": {},
     "output_type": "execute_result"
    }
   ],
   "source": [
    "import random\n",
    "import pygame\n",
    "from pygame.locals import *\n",
    "import sys\n",
    "pygame.init()"
   ]
  },
  {
   "cell_type": "code",
   "execution_count": 10,
   "metadata": {},
   "outputs": [],
   "source": [
    "#https://colorcodes.io/\n",
    "white = (255,255,255)\n",
    "yellow = (255,239,0)\n",
    "green = (0,135,62)\n",
    "black = (0,0,0)\n",
    "gray = (172,167,158)\n",
    "red = (205,0,26)"
   ]
  },
  {
   "cell_type": "code",
   "execution_count": 7,
   "metadata": {},
   "outputs": [],
   "source": [
    "font = pygame.font.SysFont(\"Helvetica neue\", 40)\n",
    "big_font = pygame.font.SysFont(\"Helvetica neue\", 80)"
   ]
  },
  {
   "cell_type": "code",
   "execution_count": 11,
   "metadata": {},
   "outputs": [],
   "source": [
    "win_statement = big_font.render(\"Congrats, You Win!\", True, green)\n",
    "lose_statement = big_font.render(\"You Lost :(\", True, red)\n",
    "replay_statement = big_font.render(\"Play Again?\", True, green)"
   ]
  },
  {
   "cell_type": "code",
   "execution_count": null,
   "metadata": {},
   "outputs": [],
   "source": [
    "def checkGuess(turns, answer, guess, window):\n",
    "    word_space = [\"\",\"\",\"\",\"\",\"\",\"\"]\n",
    "    spacing = 0\n",
    "    word_color = [white, white, white, white, white]\n",
    "    word_length = 5\n",
    "    \n",
    "    for i, letter in enumerate(guess):\n",
    "        if letter == answer[i]:\n",
    "            word_color[i] = green\n",
    "        elif letter in answer:\n",
    "            word_color[i] = yellow\n",
    "        else:\n",
    "            word_color[i] = black\n",
    "            \n",
    "    list(guess)\n",
    "    \n",
    "    for i in range(word_length):\n",
    "        word_space[i] = font.render(guess[i], True, black)\n",
    "        pygame.draw.rect(window, word_color[i]) #if the first letter is green, the square drawn will be green, etc."
   ]
  }
 ],
 "metadata": {
  "kernelspec": {
   "display_name": "wordle_env",
   "language": "python",
   "name": "wordle_env"
  },
  "language_info": {
   "codemirror_mode": {
    "name": "ipython",
    "version": 3
   },
   "file_extension": ".py",
   "mimetype": "text/x-python",
   "name": "python",
   "nbconvert_exporter": "python",
   "pygments_lexer": "ipython3",
   "version": "3.9.7"
  }
 },
 "nbformat": 4,
 "nbformat_minor": 4
}
