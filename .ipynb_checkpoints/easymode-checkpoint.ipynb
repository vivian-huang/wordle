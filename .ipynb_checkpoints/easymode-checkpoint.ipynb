{
 "cells": [
  {
   "cell_type": "code",
   "execution_count": 52,
   "id": "049b25b5",
   "metadata": {},
   "outputs": [],
   "source": [
    "# for a given word heart, the notation used throughout easy mode is as follows\n",
    "# Each letter is given a score of 0, 1, or 2. 0 means that the letter does not exist in the correct answer. \n",
    "# 1 means the letter is yellow, correct letter wrong spot. 2 menas the lettter is green, correct letter and correct\n",
    "# spot. if the answer is harsh and our guess is heart, then the resulting notation would be:\n",
    "# [('h',2),('e',0),('a',1),('r',0), ('t',0)]\n"
   ]
  },
  {
   "cell_type": "code",
   "execution_count": 53,
   "id": "ac46b865",
   "metadata": {},
   "outputs": [],
   "source": [
    "possible_words = []\n",
    "with open('common.txt') as file:\n",
    "    for line in file:\n",
    "        possible_words.append(line.replace('\\n',''))"
   ]
  },
  {
   "cell_type": "code",
   "execution_count": 104,
   "id": "44d36f71",
   "metadata": {},
   "outputs": [],
   "source": [
    "# yellow letters is a list of all letters of the guess that are correct but in the wrong position\n",
    "# green letters is a tuple list of all leters of the guess that are in the correct position and spot with\n",
    "# the letters respective position in the tuple list, example green_letters = [('h',2), ('e',3)]\n",
    "def valid_guess(answer, guess, green_letters, yellow_letters, gray_letters):\n",
    "    for letter_tuple in yellow_letters:\n",
    "        if letter_tuple[0] not in guess or guess[letter_tuple[1]] == letter_tuple[0]:\n",
    "            return False\n",
    "    for letter_tuple in green_letters:\n",
    "        if guess[letter_tuple[1]] != letter_tuple[0]:\n",
    "            return False\n",
    "    for letter in gray_letters:\n",
    "        if letter in guess:\n",
    "            return False\n",
    "    return True\n",
    "    "
   ]
  },
  {
   "cell_type": "code",
   "execution_count": 105,
   "id": "48d97b0c",
   "metadata": {},
   "outputs": [],
   "source": [
    "def score_guess(answer, guess):\n",
    "    guess_feedback = []\n",
    "    for i in range(5):\n",
    "        if guess[i] == answer[i]:\n",
    "            guess_feedback.append((guess[i],2))\n",
    "        elif guess[i] in answer:\n",
    "            guess_feedback.append((guess[i],1))\n",
    "        else:\n",
    "            guess_feedback.append((guess[i],0))\n",
    "    return guess_feedback"
   ]
  },
  {
   "cell_type": "code",
   "execution_count": 108,
   "id": "8f271faf",
   "metadata": {},
   "outputs": [],
   "source": [
    "def get_green_yellow_gray_letters(guess_feedback):\n",
    "    green_letters = []\n",
    "    yellow_letters = []\n",
    "    gray_letters = []\n",
    "    for index, feedback_tuple in enumerate(guess_feedback):\n",
    "        if feedback_tuple[1] == 2:\n",
    "            green_letters.append((feedback_tuple[0], index))\n",
    "        elif feedback_tuple[1] == 1:\n",
    "            yellow_letters.append((feedback_tuple[0], index))\n",
    "        else:\n",
    "            gray_letters.append(feedback_tuple[0])\n",
    "    return green_letters, yellow_letters, gray_letters"
   ]
  },
  {
   "cell_type": "code",
   "execution_count": 114,
   "id": "3b570e01",
   "metadata": {},
   "outputs": [
    {
     "name": "stdout",
     "output_type": "stream",
     "text": [
      "['slate', 'plank', 'alarm', 'flair']\n"
     ]
    }
   ],
   "source": [
    "def predict_wordle(answer, starting_word):\n",
    "    possible_guesses = possible_words\n",
    "    all_guesses = [starting_word]\n",
    "    min_guess = starting_word\n",
    "    final_answer = answer\n",
    "    gray_letters = []\n",
    "    while min_guess != final_answer:\n",
    "        guess_feedback = score_guess(final_answer,min_guess)\n",
    "        green_letters, yellow_letters, current_gray_letters = get_green_yellow_gray_letters(guess_feedback)\n",
    "        gray_letters = gray_letters + current_gray_letters\n",
    "        new_possible_guesses = []\n",
    "        for guess in possible_guesses:\n",
    "            if valid_guess(min_guess, guess, green_letters, yellow_letters, gray_letters):\n",
    "                new_possible_guesses.append(guess)\n",
    "        possible_guesses = new_possible_guesses\n",
    "        guess_answer_matrix = {}\n",
    "        for guess in possible_guesses:\n",
    "            guess_answer_matrix[guess] = {}\n",
    "            for answer in possible_guesses:\n",
    "                guess_feedback = score_guess(answer,guess)\n",
    "                curr_green_letters, curr_yellow_letters, curr_gray_letters = get_green_yellow_gray_letters(guess_feedback)\n",
    "                valid_guesses = 0\n",
    "                new_possible_guesses = possible_guesses.copy()\n",
    "                new_possible_guesses.remove(guess)\n",
    "                for option in new_possible_guesses:\n",
    "                    if valid_guess(answer,option,curr_green_letters,curr_yellow_letters, curr_gray_letters):\n",
    "                        valid_guesses += 1\n",
    "                guess_answer_matrix[guess][answer] = valid_guesses\n",
    "        min_guess_val = 3000\n",
    "        for guess in guess_answer_matrix:\n",
    "            max_possible_guesses = max(guess_answer_matrix[guess].values()) \n",
    "            if max_possible_guesses < min_guess_val and guess != min_guess:\n",
    "                min_guess_val = max_possible_guesses\n",
    "                min_guess = guess\n",
    "        possible_guesses.remove(min_guess)\n",
    "        all_guesses.append(min_guess)\n",
    "\n",
    "    return all_guesses\n",
    "print(predict_wordle('flair','slate'))\n"
   ]
  },
  {
   "cell_type": "code",
   "execution_count": null,
   "id": "d4e25367",
   "metadata": {},
   "outputs": [],
   "source": []
  },
  {
   "cell_type": "code",
   "execution_count": null,
   "id": "1836aa55",
   "metadata": {},
   "outputs": [],
   "source": []
  }
 ],
 "metadata": {
  "kernelspec": {
   "display_name": "Python 3 (ipykernel)",
   "language": "python",
   "name": "python3"
  },
  "language_info": {
   "codemirror_mode": {
    "name": "ipython",
    "version": 3
   },
   "file_extension": ".py",
   "mimetype": "text/x-python",
   "name": "python",
   "nbconvert_exporter": "python",
   "pygments_lexer": "ipython3",
   "version": "3.9.7"
  }
 },
 "nbformat": 4,
 "nbformat_minor": 5
}
