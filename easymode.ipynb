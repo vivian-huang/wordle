{
 "cells": [
  {
   "cell_type": "code",
   "execution_count": 42,
   "id": "049b25b5",
   "metadata": {},
   "outputs": [],
   "source": [
    "import heapq\n",
    "import random\n"
   ]
  },
  {
   "cell_type": "code",
   "execution_count": 43,
   "id": "ac46b865",
   "metadata": {},
   "outputs": [],
   "source": [
    "# Initializing list of all possible wordle guesses\n",
    "possible_words = []\n",
    "with open('common.txt') as file:\n",
    "    for line in file:\n",
    "        possible_words.append(line.replace('\\n',''))"
   ]
  },
  {
   "cell_type": "code",
   "execution_count": 44,
   "id": "44d36f71",
   "metadata": {},
   "outputs": [],
   "source": [
    "# This function determines if a guess is valid given the feedback that's been given from guesses till this point\n",
    "# yellow letters is a list of all letters of the guess that are correct but in the wrong position\n",
    "# green letters is a tuple list of all leters of the guess that are in the correct position and spot with\n",
    "# the letters respective position in the tuple list, example green_letters = [('h',2), ('e',3)]\n",
    "def valid_guess(guess, green_letters, yellow_letters, gray_letters):\n",
    "    for letter_tuple in yellow_letters:\n",
    "        if letter_tuple[0] not in guess or guess[letter_tuple[1]] == letter_tuple[0]:\n",
    "            return False\n",
    "    for letter_tuple in green_letters:\n",
    "        if guess[letter_tuple[1]] != letter_tuple[0]:\n",
    "            return False\n",
    "    for letter in gray_letters:\n",
    "        if letter in guess:\n",
    "            return False\n",
    "    return True\n",
    "    "
   ]
  },
  {
   "cell_type": "code",
   "execution_count": 45,
   "id": "48d97b0c",
   "metadata": {},
   "outputs": [],
   "source": [
    "# This function provides feedback for a guess given some answer, the notation of the feedback is seen below\n",
    "# For a given word heart, the notation used throughout the model is as follows\n",
    "# Each letter is given a score of 0, 1, or 2. 0 means that the letter does not exist in the correct answer. \n",
    "# 1 means the letter is yellow, correct letter wrong spot. 2 menas the lettter is green, correct letter and correct\n",
    "# spot. if the answer is harsh and our guess is heart, then the resulting notation would be:\n",
    "# [('h',2),('e',0),('a',1),('r',0), ('t',0)]\n",
    "def score_guess(answer, guess):\n",
    "    guess_feedback = []\n",
    "    for i in range(5):\n",
    "        if guess[i] == answer[i]:\n",
    "            guess_feedback.append((guess[i],2))\n",
    "        elif guess[i] in answer:\n",
    "            guess_feedback.append((guess[i],1))\n",
    "        else:\n",
    "            guess_feedback.append((guess[i],0))\n",
    "    return guess_feedback"
   ]
  },
  {
   "cell_type": "code",
   "execution_count": 46,
   "id": "8f271faf",
   "metadata": {},
   "outputs": [],
   "source": [
    "# This function takes feedback in the above form and converts it into a list of green, yellow, and gray letters\n",
    "# green letters and yellow letters are stored in tuples of the letter and their index within the word\n",
    "# gray letters are simply a list of all gray letters\n",
    "def get_green_yellow_gray_letters(guess_feedback):\n",
    "    green_letters = []\n",
    "    yellow_letters = []\n",
    "    gray_letters = []\n",
    "    for index, feedback_tuple in enumerate(guess_feedback):\n",
    "        if feedback_tuple[1] == 2:\n",
    "            green_letters.append((feedback_tuple[0], index))\n",
    "        elif feedback_tuple[1] == 1:\n",
    "            yellow_letters.append((feedback_tuple[0], index))\n",
    "        else:\n",
    "            gray_letters.append(feedback_tuple[0])\n",
    "    return green_letters, yellow_letters, gray_letters"
   ]
  },
  {
   "cell_type": "code",
   "execution_count": 47,
   "id": "3b570e01",
   "metadata": {},
   "outputs": [],
   "source": [
    "# def predict_wordle(answer, starting_word):\n",
    "#     possible_guesses = possible_words\n",
    "#     all_guesses = [starting_word]\n",
    "#     min_guess = starting_word\n",
    "#     final_answer = answer\n",
    "#     gray_letters = []\n",
    "#     while min_guess != final_answer:\n",
    "#         guess_feedback = score_guess(final_answer,min_guess)\n",
    "#         green_letters, yellow_letters, current_gray_letters = get_green_yellow_gray_letters(guess_feedback)\n",
    "#         gray_letters = gray_letters + current_gray_letters\n",
    "#         new_possible_guesses = []\n",
    "#         for guess in possible_guesses:\n",
    "#             if valid_guess(guess, green_letters, yellow_letters, gray_letters):\n",
    "#                 new_possible_guesses.append(guess)\n",
    "#         possible_guesses = new_possible_guesses\n",
    "#         guess_answer_matrix = {}\n",
    "#         for guess in possible_guesses:\n",
    "#             guess_answer_matrix[guess] = {}\n",
    "#             for answer in possible_guesses:\n",
    "#                 guess_feedback = score_guess(answer,guess)\n",
    "#                 curr_green_letters, curr_yellow_letters, curr_gray_letters = get_green_yellow_gray_letters(guess_feedback)\n",
    "#                 valid_guesses = 0\n",
    "#                 new_possible_guesses = possible_guesses.copy()\n",
    "#                 new_possible_guesses.remove(guess)\n",
    "#                 for option in new_possible_guesses:\n",
    "#                     if valid_guess(option,curr_green_letters,curr_yellow_letters, curr_gray_letters):\n",
    "#                         valid_guesses += 1\n",
    "#                 guess_answer_matrix[guess][answer] = valid_guesses\n",
    "#         min_guess_val = 3000\n",
    "#         for guess in guess_answer_matrix:\n",
    "#             max_possible_guesses = max(guess_answer_matrix[guess].values()) \n",
    "#             if max_possible_guesses < min_guess_val and guess != min_guess:\n",
    "#                 min_guess_val = max_possible_guesses\n",
    "#                 min_guess = guess\n",
    "#         possible_guesses.remove(min_guess)\n",
    "#         all_guesses.append(min_guess)\n",
    "\n",
    "#     return all_guesses\n",
    "# print(predict_wordle('foyer','slate'))\n"
   ]
  },
  {
   "cell_type": "code",
   "execution_count": null,
   "id": "1ec1b8b8",
   "metadata": {},
   "outputs": [],
   "source": []
  },
  {
   "cell_type": "code",
   "execution_count": 48,
   "id": "8bfff600",
   "metadata": {},
   "outputs": [],
   "source": [
    "# This is the main wordle prediction algorithm. It takes in the final_answer we are trying to find, a current working\n",
    "# list of possible guesses, a list of gray letters, and the current guess we have just made\n",
    "# It then finds the next guess using a greedy min-max approach \n",
    "def predict_wordle_guess(final_answer, possible_guesses, gray_letters, current_guess):\n",
    "    # Getting feedback on our current guess based on the answer we're working towards \n",
    "    guess_feedback = score_guess(final_answer, current_guess)\n",
    "    green_letters, yellow_letters, current_gray_letters = get_green_yellow_gray_letters(guess_feedback)\n",
    "    new_gray_letters = gray_letters + current_gray_letters\n",
    "    new_possible_guesses = []\n",
    "    # Based on the feedback of the guess, narrowing down our list of possible guesses we can chose from\n",
    "    for guess in possible_guesses:\n",
    "        if valid_guess(guess, green_letters, yellow_letters, new_gray_letters):\n",
    "            new_possible_guesses.append(guess)\n",
    "            \n",
    "    # Creating the guess answer matrix. This matrix is a matrix of all the possible words by all the possible words.\n",
    "    # The rows represent the possible guesses and the columns represent the possible answers\n",
    "    # The value at (guess, answer) represents the number of new possible guesses that exist if we guessed 'guess'\n",
    "    # and the final answer we were working towards was 'answer'.\n",
    "    possible_guesses = new_possible_guesses\n",
    "    guess_answer_matrix = {}\n",
    "    for guess in possible_guesses:\n",
    "        guess_answer_matrix[guess] = {}\n",
    "        for answer in possible_guesses:\n",
    "            guess_feedback = score_guess(answer,guess)\n",
    "            curr_green_letters, curr_yellow_letters, curr_gray_letters = get_green_yellow_gray_letters(guess_feedback)\n",
    "            valid_guesses = 0\n",
    "            new_possible_guesses = possible_guesses.copy()\n",
    "            new_possible_guesses.remove(guess)\n",
    "            for option in new_possible_guesses:\n",
    "                if valid_guess(option,curr_green_letters,curr_yellow_letters, curr_gray_letters):\n",
    "                    valid_guesses += 1\n",
    "            guess_answer_matrix[guess][answer] = valid_guesses\n",
    "    # Given this matrix of possible guesses for each guess, answer pair, we find the guess that minimizes the \n",
    "    # maximum new possible guesses across all possible answers. This is a greedy minmax approach\n",
    "    max_guess_dict = {}\n",
    "    for guess in guess_answer_matrix:\n",
    "        max_possible_guesses = max(guess_answer_matrix[guess].values())/len(guess_answer_matrix[guess].values())\n",
    "        max_guess_dict.setdefault(max_possible_guesses,[]).append(guess)\n",
    "        \n",
    "    new_guess = random.choice(max_guess_dict[min(max_guess_dict.keys())])\n",
    "    print(max_guess_dict[min(max_guess_dict.keys())])\n",
    "\n",
    "    return new_gray_letters, possible_guesses, new_guess\n",
    "\n"
   ]
  },
  {
   "cell_type": "code",
   "execution_count": 49,
   "id": "b2458eeb",
   "metadata": {},
   "outputs": [
    {
     "name": "stdout",
     "output_type": "stream",
     "text": [
      "crane\n",
      "['tales']\n",
      "tales\n",
      "['ashed', 'asked', 'askew']\n",
      "asked\n",
      "['askew']\n",
      "askew\n",
      "done\n"
     ]
    }
   ],
   "source": [
    "new_guess = 'crane'\n",
    "answer = 'askew'\n",
    "possible_guesses = possible_words\n",
    "gray_letters = []\n",
    "while new_guess != answer:\n",
    "    print(new_guess)\n",
    "    gray_letters, possible_guesses, new_guess = predict_wordle_guess(answer, possible_guesses, gray_letters, new_guess)\n",
    "\n",
    "print(new_guess)\n",
    "print('done')"
   ]
  },
  {
   "cell_type": "code",
   "execution_count": null,
   "id": "d4e25367",
   "metadata": {},
   "outputs": [],
   "source": []
  },
  {
   "cell_type": "code",
   "execution_count": null,
   "id": "1836aa55",
   "metadata": {},
   "outputs": [],
   "source": []
  }
 ],
 "metadata": {
  "kernelspec": {
   "display_name": "Python 3 (ipykernel)",
   "language": "python",
   "name": "python3"
  },
  "language_info": {
   "codemirror_mode": {
    "name": "ipython",
    "version": 3
   },
   "file_extension": ".py",
   "mimetype": "text/x-python",
   "name": "python",
   "nbconvert_exporter": "python",
   "pygments_lexer": "ipython3",
   "version": "3.9.7"
  }
 },
 "nbformat": 4,
 "nbformat_minor": 5
}
