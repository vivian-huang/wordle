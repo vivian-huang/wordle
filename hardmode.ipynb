{
 "cells": [
  {
   "cell_type": "code",
   "execution_count": null,
   "id": "fd8048a6",
   "metadata": {},
   "outputs": [],
   "source": [
    "#https://pythonawesome.com/an-algorithm-that-can-solve-the-word-puzzle-wordle-with-an-optimal-number-of-guesses-on-hard-mode/#:~:text=An%20algorithm%20that%20can%20solve%20the%20word%20puzzle,guess.%20Then%2C%20you%20type%20the%20guess%20into%20Wordle."
   ]
  },
  {
   "cell_type": "code",
   "execution_count": null,
   "id": "f9b7c23a",
   "metadata": {},
   "outputs": [],
   "source": [
    "#solving wordle optimally on hard mode\n",
    "#algorithm: list of words of possible answers and remove from the list until only one word remains\n",
    "#ea word has unique number associated w/ it using modular arithmetic \n",
    "#six prime numbers: 1Y, 5G --> multiply together for word\n",
    "\n",
    "#number: multiply all the yellow numbers of characters in a word and certain green numbers (dep where green)"
   ]
  },
  {
   "cell_type": "code",
   "execution_count": null,
   "id": "b022bc09",
   "metadata": {},
   "outputs": [],
   "source": [
    "yellow_dict = {'a':41,\n",
    "               'b':563,\n",
    "               'c':367,\n",
    "               'd':283,\n",
    "               'e':2,\n",
    "               'f':631,\n",
    "               'g':509,\n",
    "               'h':467,\n",
    "               'i':127,\n",
    "               'j':797,\n",
    "               'k':599,\n",
    "               'l':157,\n",
    "               'm':439,\n",
    "               'n':227,\n",
    "               'o':67,\n",
    "               'p':401,\n",
    "               'q':877,\n",
    "               'r':97,\n",
    "               's':17,\n",
    "               't':191,\n",
    "               'u':257,\n",
    "               'v':709,\n",
    "               'w':661,\n",
    "               'x':829,\n",
    "               'y':331,\n",
    "               'z':751\n",
    "              }"
   ]
  },
  {
   "cell_type": "code",
   "execution_count": null,
   "id": "c29fb9c2",
   "metadata": {},
   "outputs": [],
   "source": [
    "green_dict = {'a':[43, 47, 53, 59, 61],\n",
    "               'b':[569, 571, 577, 587, 593],\n",
    "               'c':[373, 379, 383, 389, 397],\n",
    "               'd':[293, 307, 311, 313, 317],\n",
    "               'e':[3, 5, 7, 11, 13],\n",
    "               'f':[641, 643, 647, 653, 659],\n",
    "               'g':[521, 523, 541, 547, 557],\n",
    "               'h':[479, 487, 491, 499, 503],\n",
    "               'i':[131, 137, 139, 149, 151],\n",
    "               'j':[809, 811, 821, 823, 827],\n",
    "               'k':[601, 607, 613, 617, 619],\n",
    "               'l':[163, 167, 173, 179, 181],\n",
    "               'm':[443, 449, 457, 461, 463],\n",
    "               'n':[229, 233, 239, 241, 251],\n",
    "               'o':[71, 73, 79, 83, 89],\n",
    "               'p':[409, 419, 421, 431, 433],\n",
    "               'q':[881, 883, 887, 907, 911],\n",
    "               'r':[101, 103, 107, 109, 113],\n",
    "               's':[19, 23, 29, 31, 37],\n",
    "               't':[193, 197, 199, 211, 223],\n",
    "               'u':[263, 269, 271, 277, 281],\n",
    "               'v':[719, 727, 733, 739, 743],\n",
    "               'w':[673, 677, 683, 691, 701],\n",
    "               'x':[839, 853, 857, 859, 863],\n",
    "               'y':[337, 347, 349, 353, 359],\n",
    "               'z':[757, 761, 769, 773, 787]\n",
    "              }"
   ]
  },
  {
   "cell_type": "code",
   "execution_count": null,
   "id": "e4c8417b",
   "metadata": {},
   "outputs": [],
   "source": [
    "#does not take into account letter frequency --> this can be added, need to adjust how number is calculated\n",
    "\n",
    "file1 = open(\"wordle_solutions.txt\",\"r\")\n",
    "possible_solutions = file1.readlines()\n",
    "\n",
    "file2 = open(\"common.txt\",\"r\")\n",
    "all_guesses = file2.readlines()\n",
    "\n",
    "#word_list = list of tuples (number, guess, [freq])\n",
    "number_list = []\n",
    "for word in all_guesses:\n",
    "    for i in range(len(word)):\n",
    "        number *= yellow_dict[word[i]]\n",
    "        number *= green_dict[word[i]][i]\n",
    "    number_list.append(number)\n",
    "\n",
    "while len(possible_solutions) > 1:\n",
    "    \n",
    "    #if mod letter != 0 then pop from list\n",
    "    for i in range(len(possible_solutions)):\n",
    "        guess = all_guesses[i]\n",
    "        actual_num = number_list[i]\n",
    "        #TODO: GUESS_NUM that is formed from guesses\n",
    "        if actual_num % GUESS_NUM == 0:\n",
    "            all_guesses.pop(i)\n",
    "        \n",
    "    "
   ]
  }
 ],
 "metadata": {
  "kernelspec": {
   "display_name": "wordle_env",
   "language": "python",
   "name": "wordle_env"
  },
  "language_info": {
   "codemirror_mode": {
    "name": "ipython",
    "version": 3
   },
   "file_extension": ".py",
   "mimetype": "text/x-python",
   "name": "python",
   "nbconvert_exporter": "python",
   "pygments_lexer": "ipython3",
   "version": "3.9.12"
  }
 },
 "nbformat": 4,
 "nbformat_minor": 5
}
