{
 "cells": [
  {
   "cell_type": "code",
   "execution_count": 1,
   "id": "947e75fa",
   "metadata": {},
   "outputs": [],
   "source": [
    "from matplotlib import pyplot as plt\n",
    "import numpy as np"
   ]
  },
  {
   "cell_type": "code",
   "execution_count": 2,
   "id": "67811f46",
   "metadata": {},
   "outputs": [],
   "source": [
    "# my_file = open(\"/Users/vivian/Desktop/no_opt.txt\", \"r\")\n",
    "# no_opt = my_file.read()\n",
    "# no_opt_counts = no_opt.split('\\n')\n",
    "# # [int(i) for i in no_opt.split('\\n')]\n",
    "# no_opt_counts\n",
    "\n",
    "with open(\"/Users/vivian/Desktop/no_opt.txt\") as f:\n",
    "    no_opt_counts = [int(x) for x in f.read().split()]\n",
    "# no_opt_counts\n",
    "with open(\"/Users/vivian/Desktop/rhyme_opt.txt\") as f:\n",
    "    rhyme_opt_counts = [int(x) for x in f.read().split()]\n",
    "with open(\"/Users/vivian/Desktop/burner_opt.txt\") as f:\n",
    "    burner_opt_counts = [int(x) for x in f.read().split()]\n",
    "with open(\"/Users/vivian/Desktop/burner_and_rhyme_opt.txt\") as f:\n",
    "    burner_and_rhyme_opt_counts = [int(x) for x in f.read().split()]"
   ]
  },
  {
   "cell_type": "code",
   "execution_count": 8,
   "id": "00b7fe8c",
   "metadata": {},
   "outputs": [
    {
     "data": {
      "text/plain": [
       "3"
      ]
     },
     "execution_count": 8,
     "metadata": {},
     "output_type": "execute_result"
    }
   ],
   "source": [
    "max_guesses = max(burner_opt_counts)\n",
    "# min_guesses = min(burner_and_rhyme_opt_counts)\n",
    "num_guesses = []\n",
    "\n",
    "for i in range(max_guesses+1):\n",
    "    num_guesses.append(burner_opt_counts.count(i))\n",
    "num_guesses\n",
    "# min_guesses"
   ]
  },
  {
   "cell_type": "code",
   "execution_count": 4,
   "id": "a3107f60",
   "metadata": {},
   "outputs": [
    {
     "data": {
      "image/png": "[encoded data removed]",
      "text/plain": [
       "<Figure size 432x288 with 1 Axes>"
      ]
     },
     "metadata": {
      "needs_background": "light"
     },
     "output_type": "display_data"
    }
   ],
   "source": [
    "plt.bar(list(range(max_guesses+1)), num_guesses)\n",
    "plt.xlabel(\"Number of Guesses\")\n",
    "plt.ylabel(\"Number of Games\")\n",
    "#Adjust title based on which model is used\n",
    "plt.title(\"EVM (Burner Optimization) Number of Guesses for 2119 Wordle Solutions\")\n",
    "plt.show()"
   ]
  }
 ],
 "metadata": {
  "kernelspec": {
   "display_name": "wordle_env",
   "language": "python",
   "name": "wordle_env"
  },
  "language_info": {
   "codemirror_mode": {
    "name": "ipython",
    "version": 3
   },
   "file_extension": ".py",
   "mimetype": "text/x-python",
   "name": "python",
   "nbconvert_exporter": "python",
   "pygments_lexer": "ipython3",
   "version": "3.9.12"
  }
 },
 "nbformat": 4,
 "nbformat_minor": 5
}
