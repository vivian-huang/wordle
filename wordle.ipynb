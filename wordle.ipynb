{
 "cells": [
  {
   "cell_type": "code",
   "execution_count": null,
   "id": "a57e600d",
   "metadata": {},
   "outputs": [],
   "source": [
    "class Wordle:\n",
    "    def __init__(self, ):\n",
    "        \n",
    "    def guess(answer, guessed_word):\n",
    "        \n",
    "        for i, letter in enumerate(guessed_word):\n",
    "            if letter == answer[i]:\n",
    "                output[i] = 'G'\n",
    "            elif letter in answer:\n",
    "                output[i] = 'Y'\n",
    "            else:\n",
    "                output[i] = 'B'"
   ]
  }
 ],
 "metadata": {
  "kernelspec": {
   "display_name": "Python 3 (ipykernel)",
   "language": "python",
   "name": "python3"
  },
  "language_info": {
   "codemirror_mode": {
    "name": "ipython",
    "version": 3
   },
   "file_extension": ".py",
   "mimetype": "text/x-python",
   "name": "python",
   "nbconvert_exporter": "python",
   "pygments_lexer": "ipython3",
   "version": "3.7.1"
  }
 },
 "nbformat": 4,
 "nbformat_minor": 5
}
